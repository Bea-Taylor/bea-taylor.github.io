{
  "cells": [
    {
      "cell_type": "markdown",
      "metadata": {},
      "source": [
        "---\n",
        "title: \"First things first\"\n",
        "draft: true\n",
        "title-block-banner: \"#E88C60\"\n",
        "title-block-banner-color: \"#F7DF9A\"\n",
        "image: kermitpiggy_getty.jpg\n",
        "author: Bea Taylor\n",
        "date: 04/01/2025\n",
        "date-format: medium\n",
        "categories: ['nonsense']\n",
        "description: 'This is a test post. In this post, I try out different functionalities'\n",
        "execute: \n",
        "  message: false\n",
        "  warning: false\n",
        "editor_options: \n",
        "  chunk_output_type: console\n",
        "---\n",
        "\n",
        "\n",
        "# Heading 1\n",
        "\n",
        "Lorem ipsum dolor sit amet, consectetur adipiscing elit. Nam suscipit est nec dui eleifend, at dictum elit ullamcorper. Aliquam feugiat dictum bibendum. Praesent fermentum laoreet quam, cursus volutpat odio dapibus in. Fusce luctus porttitor vehicula. Donec ac tortor nisi. Donec at lectus tortor. Morbi tempor, nibh non euismod viverra, metus arcu aliquet elit, sed fringilla urna leo vel purus. \n",
        "\n",
        "## Heading 2\n",
        "\n",
        "Lorem ipsum dolor sit amet, consectetur adipiscing elit. Nam suscipit est nec dui eleifend, at dictum elit ullamcorper. **Aliquam feugiat dictum bibendum.** Praesent fermentum laoreet quam, cursus volutpat odio dapibus in. [Fusce luctus](https://github.com/twbs/bootstrap-sass/blob/master/assets/stylesheets/bootstrap/_variables.scss) porttitor vehicula. Donec ac tortor nisi. Donec at lectus tortor. Morbi tempor, nibh non euismod viverra, metus arcu aliquet elit, sed fringilla urna leo vel purus.\n",
        "\n",
        "### Code\n",
        "\n",
        "This is `inline` code plus a small code chunk.\n"
      ],
      "id": "365e9fb1"
    },
    {
      "cell_type": "code",
      "metadata": {},
      "source": [
        "import numpy as np\n",
        "import matplotlib.pyplot as plt\n",
        "\n",
        "# Generate random data\n",
        "np.random.seed(42)\n",
        "petal_size = np.random.rand(100) * 10  # Petal size between 0 and 10\n",
        "num_seeds = np.random.randint(1, 100, 100)  # Number of seeds between 1 and 100\n",
        "\n",
        "# Plot the scatterplot\n",
        "plt.scatter(petal_size, num_seeds)\n",
        "plt.xlabel('Petal Size')\n",
        "plt.ylabel('Number of Seeds')\n",
        "plt.title('Scatterplot of Petal Size vs Number of Seeds')\n",
        "plt.show()"
      ],
      "id": "a56370f9",
      "execution_count": null,
      "outputs": []
    }
  ],
  "metadata": {
    "kernelspec": {
      "name": "python396jvsc74a57bd05b0ec3fa62299dc4f28574636fbfe2739dacf03b8954d4b21c9d5bd9486ad975",
      "language": "python",
      "display_name": "Python 3.9.6 64-bit ('sustain_env': conda)",
      "path": "/Users/bea/Library/Jupyter/kernels/python396jvsc74a57bd05b0ec3fa62299dc4f28574636fbfe2739dacf03b8954d4b21c9d5bd9486ad975"
    }
  },
  "nbformat": 4,
  "nbformat_minor": 5
}